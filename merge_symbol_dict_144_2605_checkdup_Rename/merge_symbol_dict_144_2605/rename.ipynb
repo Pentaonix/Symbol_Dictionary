{
 "cells": [
  {
   "cell_type": "code",
   "execution_count": 1,
   "id": "7ca48c2d",
   "metadata": {},
   "outputs": [],
   "source": [
    "import os\n",
    "from shutil import copy, move\n",
    "from PIL import Image\n",
    "import pandas as pd"
   ]
  },
  {
   "cell_type": "code",
   "execution_count": 2,
   "id": "e3179170",
   "metadata": {},
   "outputs": [],
   "source": [
    "symbol_dir = 'symbol_dict'\n",
    "output = 'output'"
   ]
  },
  {
   "cell_type": "code",
   "execution_count": 10,
   "id": "d745f494",
   "metadata": {},
   "outputs": [],
   "source": [
    "out_path_1 = symbol_dir\n",
    "newfile = os.path.join(\"cam_id_note.txt\")\n",
    "for sub_dir in os.listdir(symbol_dir):\n",
    "        if not os.path.exists(output):\n",
    "            os.mkdir(output)\n",
    "        if not os.path.exists(os.path.join(output, sub_dir)):\n",
    "            os.mkdir(os.path.join(output, sub_dir))\n",
    "        with open(newfile, 'a', encoding='utf8') as f:\n",
    "            i = 0 \n",
    "            j = 0\n",
    "            for filename in os.listdir(os.path.join(symbol_dir, sub_dir)):\n",
    "#                 print(filename)\n",
    "                img_path = os.path.join(symbol_dir, sub_dir, filename)\n",
    "                out_path = os.path.join(output, sub_dir)\n",
    "                extension = filename.split(\".\")[-1]\n",
    "            \n",
    "                img_name = filename[:filename.rfind(\".\")]\n",
    "                img_name = filename.split(\"_\")[1]\n",
    "                cam_id = filename[:filename.rfind(\".\")]\n",
    "                cam_id = filename.split(\"_\")[0]\n",
    "                prev = filename[:filename.rfind(\".\")]\n",
    "                prev = prev.split(\"_\")[2]\n",
    "                        \n",
    "                if \"A\" in prev:\n",
    "                    prev = \"A\" + str(i)\n",
    "                    i+=1\n",
    "                elif \"B\" in prev:\n",
    "                    prev = \"B\" + str(j)\n",
    "                    j+=1\n",
    "                new_img_name = f'{img_name}_{prev}.{extension}'\n",
    "#                 print(prev)\n",
    "                des_path = os.path.join(out_path, new_img_name)\n",
    "#                 print(type(cam_id))\n",
    "                copy(img_path, des_path)\n",
    "#                 print(new_img_name)\n",
    "                f.write(new_img_name + ':' + cam_id)\n",
    "                f.write(\"\\n\")\n",
    "\n",
    "    except Exception as e:\n",
    "        print(sub_dir)\n",
    "#         print(e)"
   ]
  }
 ],
 "metadata": {
  "kernelspec": {
   "display_name": "Python 3",
   "language": "python",
   "name": "python3"
  },
  "language_info": {
   "codemirror_mode": {
    "name": "ipython",
    "version": 3
   },
   "file_extension": ".py",
   "mimetype": "text/x-python",
   "name": "python",
   "nbconvert_exporter": "python",
   "pygments_lexer": "ipython3",
   "version": "3.6.8"
  }
 },
 "nbformat": 4,
 "nbformat_minor": 5
}
